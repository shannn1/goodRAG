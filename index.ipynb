{
  "nbformat": 4,
  "nbformat_minor": 0,
  "metadata": {
    "colab": {
      "provenance": [],
      "authorship_tag": "ABX9TyNPYKLf6qT8rGAYH4Yds2l8",
      "include_colab_link": true
    },
    "kernelspec": {
      "name": "python3",
      "display_name": "Python 3"
    },
    "language_info": {
      "name": "python"
    }
  },
  "cells": [
    {
      "cell_type": "markdown",
      "metadata": {
        "id": "view-in-github",
        "colab_type": "text"
      },
      "source": [
        "<a href=\"https://colab.research.google.com/github/shannn1/goodRAG/blob/main/index.ipynb\" target=\"_parent\"><img src=\"https://colab.research.google.com/assets/colab-badge.svg\" alt=\"Open In Colab\"/></a>"
      ]
    },
    {
      "cell_type": "code",
      "execution_count": null,
      "metadata": {
        "id": "N4vakySzOH4F"
      },
      "outputs": [],
      "source": [
        "import faiss\n",
        "from datasets import load_dataset\n",
        "import numpy as np\n",
        "\n",
        "dataset = load_dataset(\"Shannnh/knowledge_base_genai\")\n",
        "dataset = dataset['train']\n",
        "\n",
        "chunk_size = 5000\n",
        "\n",
        "embeddings = np.array(dataset['embeddings']).astype('float32')\n",
        "np.save(\"embeddings.npy\", embeddings)\n",
        "mapped_embeddings = np.memmap(\"embeddings.npy\", dtype='float32', mode='r', shape=embeddings.shape)\n",
        "\n",
        "dimension = mapped_embeddings.shape[1]\n",
        "\n",
        "index = faiss.IndexFlatL2(dimension)\n",
        "\n",
        "for i in range(0, mapped_embeddings.shape[0], chunk_size):\n",
        "    chunk = mapped_embeddings[i:i + chunk_size]\n",
        "    index.add(chunk)\n",
        "    print(f\"Added chunk {i // chunk_size + 1} to index\")\n",
        "\n",
        "faiss.write_index(index, \"faiss_index\")\n",
        "print(\"Index saved to 'faiss_index'\")"
      ]
    }
  ]
}