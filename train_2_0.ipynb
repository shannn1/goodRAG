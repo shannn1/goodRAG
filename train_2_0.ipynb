{
  "nbformat": 4,
  "nbformat_minor": 0,
  "metadata": {
    "colab": {
      "provenance": [],
      "include_colab_link": true
    },
    "kernelspec": {
      "name": "python3",
      "display_name": "Python 3"
    },
    "language_info": {
      "name": "python"
    }
  },
  "cells": [
    {
      "cell_type": "markdown",
      "metadata": {
        "id": "view-in-github",
        "colab_type": "text"
      },
      "source": [
        "<a href=\"https://colab.research.google.com/github/shannn1/goodRAG/blob/main/train_2_0.ipynb\" target=\"_parent\"><img src=\"https://colab.research.google.com/assets/colab-badge.svg\" alt=\"Open In Colab\"/></a>"
      ]
    },
    {
      "cell_type": "code",
      "source": [
        "from transformers import (\n",
        "    AutoModel,\n",
        "    AutoModelForSeq2SeqLM,\n",
        "    RagTokenizer,\n",
        "    RagRetriever,\n",
        "    RagSequenceForGeneration,\n",
        "    RagConfig,\n",
        "    Seq2SeqTrainer,\n",
        "    Seq2SeqTrainingArguments,\n",
        "    DataCollatorForSeq2Seq,\n",
        ")\n",
        "import torch\n",
        "from datasets import Dataset"
      ],
      "metadata": {
        "id": "rKOB4kSsdg3x"
      },
      "execution_count": null,
      "outputs": []
    },
    {
      "cell_type": "code",
      "source": [
        "##这里需要一些data的处理，包括生成知识库路径和索引文件路径\n",
        "\n"
      ],
      "metadata": {
        "id": "SCCLOGRsdi2v"
      },
      "execution_count": null,
      "outputs": []
    },
    {
      "cell_type": "code",
      "execution_count": null,
      "metadata": {
        "id": "01refCxAc0U7"
      },
      "outputs": [],
      "source": [
        "\n",
        "\n",
        "question_encoder = AutoModel.from_pretrained(\"facebook/rag-sequence-nq\")\n",
        "generator = AutoModelForSeq2SeqLM.from_pretrained(\"generator_model_path\") #e.g.,\"google-t5/t5-small\"\n",
        "\n",
        "retriever = RagRetriever.from_pretrained(\n",
        "    \"facebook/rag-sequence-nq\",  # 使用默认配置\n",
        "    index_name=\"custom\",         # 自定义索引\n",
        "    passages_path=\"path/to/your/passages\",  # 知识库路径\n",
        "    index_path=\"path/to/your/index.faiss\"  # 索引文件路径\n",
        ")\n",
        "\n",
        "rag_config = RagConfig.from_question_encoder_generator_configs(\n",
        "    question_encoder.config,\n",
        "    generator.config,\n",
        "    n_docs=5,  # 检索的文档数量，可以调整\n",
        ")\n",
        "\n",
        "model = RagSequenceForGeneration(\n",
        "    config=rag_config,\n",
        "    question_encoder=question_encoder,\n",
        "    generator=generator,\n",
        "    retriever=retriever\n",
        ")\n",
        "\n",
        "tokenizer = RagTokenizer.from_pretrained(\"facebook/rag-sequence-nq\")"
      ]
    },
    {
      "cell_type": "code",
      "source": [
        "data = {\n",
        "    \"questions\": [\"How many people live in Paris?\", \"What is the capital of France?\"],\n",
        "    \"answers\": [\"10 million\", \"Paris\"],\n",
        "}\n",
        "dataset = Dataset.from_dict(data)\n",
        "\n",
        "def preprocess_function(examples):\n",
        "    questions = examples['question']\n",
        "    answers = examples['answer']\n",
        "    encoded_questions = tokenizer.question_encoder(\n",
        "        questions,\n",
        "        max_length=512,\n",
        "        truncation=True,\n",
        "        padding='max_length',\n",
        "        return_tensors=\"pt\"\n",
        "    )\n",
        "    encoded_answers = tokenizer.generator(\n",
        "        answers,\n",
        "        max_length=512,\n",
        "        truncation=True,\n",
        "        padding='max_length',\n",
        "        return_tensors=\"pt\"\n",
        "    )\n",
        "    encoded_questions[\"labels\"] = encoded_answers[\"input_ids\"]\n",
        "    return encoded_questions\n",
        "\n",
        "tokenized_train = qa_train_dataset.map(preprocess_function, batched=True)\n",
        "tokenized_train = tokenized_train.remove_columns(['question', 'answer'])\n",
        "tokenized_train.set_format('torch')\n",
        "\n",
        "collator = DataCollatorForSeq2Seq(tokenizer=tokenizer, model=model)"
      ],
      "metadata": {
        "id": "QkcyjK3Gc9as"
      },
      "execution_count": null,
      "outputs": []
    },
    {
      "cell_type": "code",
      "source": [
        "training_args = Seq2SeqTrainingArguments(\n",
        "    output_dir=\"./rag_output\",\n",
        "    evaluation_strategy=\"steps\",\n",
        "    learning_rate=3e-5,\n",
        "    per_device_train_batch_size=4,\n",
        "    per_device_eval_batch_size=4,\n",
        "    num_train_epochs=3,\n",
        "    save_steps=10,\n",
        "    logging_dir=\"./logs\",\n",
        "    predict_with_generate=True,\n",
        ")\n",
        "trainer = Seq2SeqTrainer(\n",
        "    model=model,\n",
        "    args=training_args,\n",
        "    train_dataset=tokenized_train,\n",
        "    tokenizer=tokenizer,\n",
        "    data_collator=collator,\n",
        ")\n",
        "trainer.train()\n",
        "trainer.save_model(\"./rag_trained_model\")"
      ],
      "metadata": {
        "id": "i-tLVubXpLb2"
      },
      "execution_count": null,
      "outputs": []
    },
    {
      "cell_type": "code",
      "source": [
        "##以下是推理\n",
        "\n",
        "\n",
        "inputs = tokenizer(\"How many people live in Paris?\", return_tensors=\"pt\")\n",
        "targets = tokenizer(text_target=\"In Paris, there are 10 million people.\", return_tensors=\"pt\")\n",
        "input_ids = inputs[\"input_ids\"]\n",
        "labels = targets[\"input_ids\"]\n",
        "outputs = model(input_ids=input_ids, labels=labels)"
      ],
      "metadata": {
        "id": "3aEPCMIBdckL"
      },
      "execution_count": null,
      "outputs": []
    }
  ]
}